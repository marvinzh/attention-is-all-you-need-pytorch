{
 "cells": [
  {
   "cell_type": "code",
   "execution_count": 1,
   "metadata": {},
   "outputs": [],
   "source": [
    "import numpy as np"
   ]
  },
  {
   "cell_type": "code",
   "execution_count": 2,
   "metadata": {
    "code_folding": []
   },
   "outputs": [],
   "source": [
    "class Tensor(np.ndarray):\n",
    "    '''Tensor implementation\n",
    "       extend numpy.ndarray to support gradient recording.\n",
    "    '''\n",
    "    def __new__(cls, input_array, requires_grad=False, dtype=None, op=None, in_nodes=None):\n",
    "        t = np.asarray(input_array,dtype=dtype).view(cls)\n",
    "        t.requires_grad = requires_grad\n",
    "        t.op = op\n",
    "        t.in_nodes = in_nodes\n",
    "        t.outdegree = 0\n",
    "        t.is_root = op is None\n",
    "        t._grad = np.zeros(t.shape, dtype=dtype)\n",
    "\n",
    "        return t\n",
    "    \n",
    "    @property\n",
    "    def grad(self):\n",
    "        if self.requires_grad:\n",
    "            return self._grad\n",
    "    \n",
    "    \n",
    "    \n",
    "    def __array_finalize__(self, obj):\n",
    "        if obj is None:\n",
    "            return\n",
    "        \n",
    "        self.requires_grad = False\n",
    "        self.op = None\n",
    "        self.in_nodes= None\n",
    "        self.outdegree = 0\n",
    "        self.is_root=False\n",
    "        self._grad = np.zeros(self.shape, dtype=self.dtype)\n",
    "        \n",
    "        \n",
    "    def backward(self):\n",
    "        grads = self.op.backward(self.in_nodes, self._grad)\n",
    "        for i, node in enumerate(self.in_nodes):\n",
    "            node._grad += grads[i]\n",
    "            node.outdegree-=1\n",
    "            if not node.is_root and node.outdegree == 0:\n",
    "                node.backward()\n",
    "            \n",
    "    def zeros_grad(self):\n",
    "        self._grad = np.zeros(self.shape, dtype=self.dtype)"
   ]
  },
  {
   "cell_type": "code",
   "execution_count": 13,
   "metadata": {
    "code_folding": [
     0,
     30,
     37
    ]
   },
   "outputs": [],
   "source": [
    "class Operator:\n",
    "    def __call__(self, *args, **kwargs):\n",
    "        for arg in args:\n",
    "            assert isinstance(arg, Tensor)\n",
    "            arg.outdegree+=1\n",
    "        \n",
    "        out = self.forward(*args, **kwargs)\n",
    "        out.op = self\n",
    "        out.in_nodes=args\n",
    "        return out\n",
    "    def forward(self):\n",
    "        raise NotImplementedError\n",
    "    def backward(self):\n",
    "        raise NotImplementedError\n",
    "    \n",
    "class Add(Operator):\n",
    "    def forward(self, x, y):\n",
    "        return x + y\n",
    "    \n",
    "    def backward(self, in_nodes, grad):\n",
    "        x, y = in_nodes\n",
    "        return [1*grad, grad.mean(axis=0)]\n",
    "    \n",
    "class MatMul(Operator):\n",
    "    def forward(self, x, y):\n",
    "        return np.matmul(x, y)\n",
    "    \n",
    "    def backward(self, in_nodes, grad):\n",
    "        x, y = in_nodes\n",
    "        return [np.matmul(grad, y.T), np.matmul(x.T, grad)]\n",
    "    \n",
    "class Relu(Operator):\n",
    "    def forward(self, x):\n",
    "        pass\n",
    "    def backward(self, in_nodes):\n",
    "        pass\n",
    "    \n",
    "class Sigmoid(Operator):\n",
    "    def forward(self, x):\n",
    "        pass\n",
    "    \n",
    "    def backward(self, in_nodes):\n",
    "        pass"
   ]
  },
  {
   "cell_type": "code",
   "execution_count": 14,
   "metadata": {
    "code_folding": [
     0
    ]
   },
   "outputs": [],
   "source": [
    "class Module:\n",
    "    def __call__(self, *args, **kwargs):\n",
    "        return self.forward(*args, **kwargs)\n",
    "    \n",
    "class Linear(Module):\n",
    "    def __init__(self, d_in, d_out, bias=True):\n",
    "        self.d_in = d_in\n",
    "        self.d_out = d_out\n",
    "        self.bias = bias\n",
    "        self.w = Tensor(np.random.randn(d_in, d_out), requires_grad=True)\n",
    "        if bias:\n",
    "            self.b = Tensor(np.zeros(d_out), requires_grad=True)\n",
    "    \n",
    "    def forward(self, x):\n",
    "        z = MatMul()(x, self.w)\n",
    "        if self.bias:\n",
    "            z = Add()(z, self.b)\n",
    "        return z    "
   ]
  },
  {
   "cell_type": "code",
   "execution_count": 15,
   "metadata": {},
   "outputs": [],
   "source": [
    "a = Tensor([1,2,3], requires_grad=True)\n",
    "b = Tensor([2,2,2], requires_grad=True)"
   ]
  },
  {
   "cell_type": "code",
   "execution_count": 16,
   "metadata": {},
   "outputs": [],
   "source": [
    "c = Tensor([[1,1,1],[2,2,2]])\n",
    "l1 = Linear(3,4,bias=True)"
   ]
  },
  {
   "cell_type": "code",
   "execution_count": 17,
   "metadata": {},
   "outputs": [],
   "source": [
    "z = l1(c)\n",
    "z._grad+=1"
   ]
  },
  {
   "cell_type": "code",
   "execution_count": 18,
   "metadata": {},
   "outputs": [],
   "source": [
    "z.backward()"
   ]
  },
  {
   "cell_type": "code",
   "execution_count": 19,
   "metadata": {},
   "outputs": [
    {
     "data": {
      "text/plain": [
       "array([1., 1., 1., 1.])"
      ]
     },
     "execution_count": 19,
     "metadata": {},
     "output_type": "execute_result"
    }
   ],
   "source": [
    "l1.b._grad"
   ]
  },
  {
   "cell_type": "code",
   "execution_count": 20,
   "metadata": {},
   "outputs": [
    {
     "data": {
      "text/plain": [
       "array([[3., 3., 3., 3.],\n",
       "       [3., 3., 3., 3.],\n",
       "       [3., 3., 3., 3.]])"
      ]
     },
     "execution_count": 20,
     "metadata": {},
     "output_type": "execute_result"
    }
   ],
   "source": [
    "l1.w._grad"
   ]
  },
  {
   "cell_type": "code",
   "execution_count": null,
   "metadata": {},
   "outputs": [],
   "source": []
  },
  {
   "cell_type": "code",
   "execution_count": null,
   "metadata": {},
   "outputs": [],
   "source": []
  }
 ],
 "metadata": {
  "kernelspec": {
   "display_name": "Python 3",
   "language": "python",
   "name": "python3"
  },
  "language_info": {
   "codemirror_mode": {
    "name": "ipython",
    "version": 3
   },
   "file_extension": ".py",
   "mimetype": "text/x-python",
   "name": "python",
   "nbconvert_exporter": "python",
   "pygments_lexer": "ipython3",
   "version": "3.7.4"
  }
 },
 "nbformat": 4,
 "nbformat_minor": 2
}
