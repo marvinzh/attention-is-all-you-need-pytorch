{
 "cells": [
  {
   "cell_type": "code",
   "execution_count": 1,
   "metadata": {},
   "outputs": [],
   "source": [
    "import numpy as np"
   ]
  },
  {
   "cell_type": "code",
   "execution_count": 5,
   "metadata": {},
   "outputs": [],
   "source": [
    "class Operator:\n",
    "    def __call__(self, *args, **kwargs):\n",
    "        return self.forward(*args, **kwargs)\n",
    "    def forward(self):\n",
    "        pass\n",
    "    def backward(self):\n",
    "        pass\n",
    "    \n",
    "class Add(Operator):\n",
    "    def forward(self, x, y):\n",
    "        assert isinstance(x, Tensor)\n",
    "        assert isinstance(y, Tensor)\n",
    "        x.outdegree+=1\n",
    "        y.outdegree+=1\n",
    "        x.is_leaf = False\n",
    "        y.is_leaf = False\n",
    "        out = Tensor(x.data + y.data,op=self, in_nodes=[x, y])\n",
    "        return out\n",
    "    \n",
    "    def backward(self, in_nodes):\n",
    "        return [np.ones_like(node.data) for node in in_nodes]\n",
    "\n",
    "class Multipy(Operator):\n",
    "    def forward(self, x, y):\n",
    "        assert isinstance(x, Tensor)\n",
    "        assert isinstance(y, Tensor)\n",
    "        x.outdegree+=1\n",
    "        y.outdegree+=1\n",
    "        x.is_leaf = False\n",
    "        y.is_leaf = False\n",
    "        out = Tensor(x.data * y.data, op=self, in_nodes=[x,y])\n",
    "        return out\n",
    "    \n",
    "    def backward(self, in_nodes):\n",
    "        return [in_nodes[1].data.copy(), in_nodes[0].data.copy()]\n",
    "    \n",
    "class Sin(Operator):\n",
    "    def forward(self, x):\n",
    "        assert isinstance(x, Tensor)\n",
    "        x.outdegree += 1\n",
    "        x.is_leaf = False\n",
    "        out = Tensor(np.sin(x.data), op=self, in_nodes=[x])\n",
    "        return out\n",
    "    \n",
    "    def backward(self, in_nodes):\n",
    "        return [np.cos(in_nodes[0].data)]\n",
    "    \n",
    "class Log(Operator):\n",
    "    def forward(self, x):\n",
    "        assert isinstance(x, Tensor)\n",
    "        x.outdegree += 1\n",
    "        x.is_leaf = False\n",
    "        out = Tensor(np.log(x.data), op=self, in_nodes=[x])\n",
    "        return out\n",
    "    \n",
    "    def backward(self, in_nodes):\n",
    "        return [1/in_nodes[0].data]\n",
    "    \n",
    "class Sub(Operator):\n",
    "    def forward(self, x, y):\n",
    "        assert isinstance(x, Tensor)\n",
    "        assert isinstance(y, Tensor)\n",
    "        x.outdegree+=1\n",
    "        y.outdegree+=1\n",
    "        x.is_leaf = False\n",
    "        y.is_leaf = False\n",
    "        out = Tensor(x.data - y.data,op=self, in_nodes=[x, y])\n",
    "        return out\n",
    "    \n",
    "    def backward(self, in_nodes):\n",
    "        x, y = in_nodes\n",
    "        return [np.ones_like(x.data), -1 * np.ones_like(y.data)]\n",
    "    "
   ]
  },
  {
   "cell_type": "code",
   "execution_count": 6,
   "metadata": {},
   "outputs": [],
   "source": [
    "class Tensor:\n",
    "    def __init__(self, data, op=None, in_nodes=None):\n",
    "        assert isinstance(data, np.ndarray)\n",
    "        self.data = data\n",
    "        self.op = op\n",
    "        self.in_nodes = in_nodes\n",
    "        self.grad = np.zeros_like(self.data)\n",
    "        self.is_leaf = True\n",
    "        self.is_root = self.op is None\n",
    "        self.outdegree = 0\n",
    "    \n",
    "    def __add__(self, other):\n",
    "        add_op = Add()\n",
    "        return add_op.forward(self, other)\n",
    "    \n",
    "    def __mul__(self, other):\n",
    "        mul_op = Multipy()\n",
    "        return mul_op.forward(self, other)\n",
    "    \n",
    "    def __sub__(self, other):\n",
    "        sub_op = Sub()\n",
    "        return sub_op.forward(self, other)\n",
    "    \n",
    "    def backward(self):\n",
    "        if self.is_leaf:\n",
    "            self.grad = np.ones_like(self.data)\n",
    "        \n",
    "        grads = self.op.backward(self.in_nodes)\n",
    "        for i, node in enumerate(self.in_nodes):\n",
    "            node.grad += self.grad * grads[i]\n",
    "            node.outdegree -=1\n",
    "            if not node.is_root and self.outdegree == 0:\n",
    "                node.backward()\n",
    "            \n",
    "    def zero_grads(self):\n",
    "        self.grad = np.zeros_like(self.data)\n",
    "        "
   ]
  },
  {
   "cell_type": "code",
   "execution_count": 7,
   "metadata": {},
   "outputs": [],
   "source": [
    "vz = Tensor(np.array([2.]))\n",
    "v0 = Tensor(np.array([5.]))\n",
    "v1 = Log()(vz)\n",
    "v2 = vz*v0\n",
    "v3 = Sin()(v0)\n",
    "v4 = v1 + v2\n",
    "v5 = v4 - v3"
   ]
  },
  {
   "cell_type": "code",
   "execution_count": 8,
   "metadata": {},
   "outputs": [
    {
     "data": {
      "text/plain": [
       "array([11.65207146])"
      ]
     },
     "execution_count": 8,
     "metadata": {},
     "output_type": "execute_result"
    }
   ],
   "source": [
    "v5.data"
   ]
  },
  {
   "cell_type": "code",
   "execution_count": 9,
   "metadata": {},
   "outputs": [
    {
     "name": "stdout",
     "output_type": "stream",
     "text": [
      "(1,)\n",
      "[1.] [1.] <class 'numpy.ndarray'> <class 'numpy.ndarray'> (1,) (1,)\n",
      "(1,)\n",
      "[1.] [1.] <class 'numpy.ndarray'> <class 'numpy.ndarray'> (1,) (1,)\n",
      "(1,)\n",
      "[1.] [0.5] <class 'numpy.ndarray'> <class 'numpy.ndarray'> (1,) (1,)\n",
      "[1.] [1.] <class 'numpy.ndarray'> <class 'numpy.ndarray'> (1,) (1,)\n",
      "(1,)\n",
      "[1.] [5.] <class 'numpy.ndarray'> <class 'numpy.ndarray'> (1,) (1,)\n",
      "[1.] [2.] <class 'numpy.ndarray'> <class 'numpy.ndarray'> (1,) (1,)\n",
      "[1.] [-1.] <class 'numpy.ndarray'> <class 'numpy.ndarray'> (1,) (1,)\n",
      "(1,)\n",
      "[-1.] [0.28366219] <class 'numpy.ndarray'> <class 'numpy.ndarray'> (1,) (1,)\n"
     ]
    }
   ],
   "source": [
    "v5.backward()"
   ]
  },
  {
   "cell_type": "code",
   "execution_count": 10,
   "metadata": {},
   "outputs": [
    {
     "data": {
      "text/plain": [
       "array([5.5])"
      ]
     },
     "execution_count": 10,
     "metadata": {},
     "output_type": "execute_result"
    }
   ],
   "source": [
    "vz.grad"
   ]
  },
  {
   "cell_type": "code",
   "execution_count": 12,
   "metadata": {},
   "outputs": [
    {
     "data": {
      "text/plain": [
       "array([1.71633781])"
      ]
     },
     "execution_count": 12,
     "metadata": {},
     "output_type": "execute_result"
    }
   ],
   "source": [
    "v0.grad"
   ]
  },
  {
   "cell_type": "code",
   "execution_count": null,
   "metadata": {},
   "outputs": [],
   "source": []
  }
 ],
 "metadata": {
  "kernelspec": {
   "display_name": "Python 3",
   "language": "python",
   "name": "python3"
  },
  "language_info": {
   "codemirror_mode": {
    "name": "ipython",
    "version": 3
   },
   "file_extension": ".py",
   "mimetype": "text/x-python",
   "name": "python",
   "nbconvert_exporter": "python",
   "pygments_lexer": "ipython3",
   "version": "3.7.4"
  }
 },
 "nbformat": 4,
 "nbformat_minor": 2
}
