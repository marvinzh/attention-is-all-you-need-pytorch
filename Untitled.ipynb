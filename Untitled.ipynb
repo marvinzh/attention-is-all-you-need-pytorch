{
 "cells": [
  {
   "cell_type": "code",
   "execution_count": 8,
   "metadata": {},
   "outputs": [],
   "source": [
    "import numpy\n",
    "import numpy as np\n",
    "\n",
    "class Tensor:\n",
    "    def __init__(self, data, from_tensors=None, op=None, grad=None):\n",
    "        self.data = data  # 数据\n",
    "        self.from_tensors = from_tensors  # 是从什么Tensor得到的，保存计算图的历史\n",
    "        self.op = op  # 操作符运算\n",
    "        # 梯度\n",
    "        if grad:\n",
    "            self.grad = grad\n",
    "        else:\n",
    "            self.grad = numpy.zeros(self.data.shape) if isinstance(self.data, numpy.ndarray) else 0\n",
    "    \n",
    "    def __add__(self, other):\n",
    "        # 先判断other是否是常数，然后再调用\n",
    "        return add.forward([self, other]) if isinstance(other, Tensor) else add_with_const.forward([self, other])\n",
    "\n",
    "    def backward(self, grad=None):\n",
    "        # 判断y的梯度是否存在，如果不存在初始化和y.data一样类型的1的数据\n",
    "        if grad is None:\n",
    "            self.grad = grad = numpy.ones(self.data.shape) if isinstance(self.data, numpy.ndarray) else 1\n",
    "        # 如果op不存在，则说明该Tensor为根节点，其from_tensors也必然不存在，否则计算梯度\n",
    "        if self.op:\n",
    "            grad = self.op.backward(self.from_tensors, grad)\n",
    "        if self.from_tensors:\n",
    "            for i in range(len(grad)):\n",
    "                tensor = self.from_tensors[i]\n",
    "                # 把梯度加给对应的子Tensor，因为该Tensor可能参与多个运算\n",
    "                tensor.grad += grad[i]\n",
    "                # 子Tensor进行后向过程\n",
    "                tensor.backward(grad[i])\n",
    "\n",
    "    # 清空梯度，训练的时候，每个batch应该清空梯度\n",
    "    def zero_gard(self):\n",
    "        self.grad = numpy.zeros(self.data.shape) if isinstance(self.data, numpy.ndarray) else 0"
   ]
  },
  {
   "cell_type": "code",
   "execution_count": 9,
   "metadata": {},
   "outputs": [],
   "source": [
    "class OP:\n",
    "    def forward(self, from_tensors):\n",
    "        pass\n",
    "\n",
    "    def backward(self, from_tensors, grad):\n",
    "        pass\n",
    "\n",
    "\n",
    "class Add(OP):\n",
    "    def forward(self, from_tensors):\n",
    "        return Tensor(from_tensors[0].data + from_tensors[1].data, from_tensors, self)\n",
    "\n",
    "    def backward(self, from_tensors, grad):\n",
    "        return [grad, grad]\n",
    "\n",
    "\n",
    "add = Add()\n"
   ]
  },
  {
   "cell_type": "code",
   "execution_count": 10,
   "metadata": {},
   "outputs": [],
   "source": [
    "x1_val = 2 * np.ones(3)\n",
    "x2_val = 3 * np.ones(3)\n",
    "x1 = Tensor(x1_val)\n",
    "x2 = Tensor(x2_val)\n",
    "# x1+x2 调用了Add的forward方法，并用[5,5,5]、x1与x2、加法操作构造新的Tensor，然后赋值给y\n",
    "y = x1 + x2\n",
    "assert np.array_equal(y.data, x1_val + x2_val)"
   ]
  },
  {
   "cell_type": "code",
   "execution_count": 13,
   "metadata": {},
   "outputs": [],
   "source": [
    "y.backward()"
   ]
  },
  {
   "cell_type": "code",
   "execution_count": 14,
   "metadata": {},
   "outputs": [
    {
     "data": {
      "text/plain": [
       "array([1., 1., 1.])"
      ]
     },
     "execution_count": 14,
     "metadata": {},
     "output_type": "execute_result"
    }
   ],
   "source": [
    "x1.grad"
   ]
  },
  {
   "cell_type": "code",
   "execution_count": 15,
   "metadata": {},
   "outputs": [
    {
     "data": {
      "text/plain": [
       "array([1., 1., 1.])"
      ]
     },
     "execution_count": 15,
     "metadata": {},
     "output_type": "execute_result"
    }
   ],
   "source": [
    "x2.grad"
   ]
  },
  {
   "cell_type": "code",
   "execution_count": 18,
   "metadata": {},
   "outputs": [
    {
     "data": {
      "text/plain": [
       "array([1., 1., 1.])"
      ]
     },
     "execution_count": 18,
     "metadata": {},
     "output_type": "execute_result"
    }
   ],
   "source": [
    "x1.grad"
   ]
  },
  {
   "cell_type": "code",
   "execution_count": null,
   "metadata": {},
   "outputs": [],
   "source": []
  }
 ],
 "metadata": {
  "kernelspec": {
   "display_name": "Python 3",
   "language": "python",
   "name": "python3"
  },
  "language_info": {
   "codemirror_mode": {
    "name": "ipython",
    "version": 3
   },
   "file_extension": ".py",
   "mimetype": "text/x-python",
   "name": "python",
   "nbconvert_exporter": "python",
   "pygments_lexer": "ipython3",
   "version": "3.7.4"
  }
 },
 "nbformat": 4,
 "nbformat_minor": 2
}
